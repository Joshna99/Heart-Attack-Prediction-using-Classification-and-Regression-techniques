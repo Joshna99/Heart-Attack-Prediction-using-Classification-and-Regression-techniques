{
 "cells": [
  {
   "cell_type": "markdown",
   "metadata": {
    "id": "ANYvtqENHTRs"
   },
   "source": [
    "## Import"
   ]
  },
  {
   "cell_type": "code",
   "execution_count": 1,
   "metadata": {
    "id": "D348YADBHTRv"
   },
   "outputs": [],
   "source": [
    "import pylab as pl\n",
    "import numpy as np\n",
    "import pandas as pd\n",
    "import seaborn as sns\n",
    "import scipy.optimize as opt\n",
    "import scipy.stats as stats\n",
    "import matplotlib.pyplot as plt\n",
    "from scipy.stats import randint\n",
    "%matplotlib inline\n",
    "\n",
    "# Suppress warnings for cleaner output\n",
    "import warnings\n",
    "warnings.simplefilter(\"ignore\")"
   ]
  },
  {
   "cell_type": "markdown",
   "metadata": {
    "id": "KvsXXj3_HTRx"
   },
   "source": [
    "## Load the dataset from 'heart.csv' into a Pandas DataFrame"
   ]
  },
  {
   "cell_type": "code",
   "execution_count": 2,
   "metadata": {
    "id": "n_9OHWSmHTRx"
   },
   "outputs": [
    {
     "data": {
      "text/html": [
       "<div>\n",
       "<style scoped>\n",
       "    .dataframe tbody tr th:only-of-type {\n",
       "        vertical-align: middle;\n",
       "    }\n",
       "\n",
       "    .dataframe tbody tr th {\n",
       "        vertical-align: top;\n",
       "    }\n",
       "\n",
       "    .dataframe thead th {\n",
       "        text-align: right;\n",
       "    }\n",
       "</style>\n",
       "<table border=\"1\" class=\"dataframe\">\n",
       "  <thead>\n",
       "    <tr style=\"text-align: right;\">\n",
       "      <th></th>\n",
       "      <th>age</th>\n",
       "      <th>sex</th>\n",
       "      <th>cp</th>\n",
       "      <th>trtbps</th>\n",
       "      <th>chol</th>\n",
       "      <th>fbs</th>\n",
       "      <th>restecg</th>\n",
       "      <th>thalachh</th>\n",
       "      <th>exng</th>\n",
       "      <th>oldpeak</th>\n",
       "      <th>slp</th>\n",
       "      <th>caa</th>\n",
       "      <th>thall</th>\n",
       "      <th>output</th>\n",
       "    </tr>\n",
       "  </thead>\n",
       "  <tbody>\n",
       "    <tr>\n",
       "      <th>0</th>\n",
       "      <td>63</td>\n",
       "      <td>1</td>\n",
       "      <td>3</td>\n",
       "      <td>145</td>\n",
       "      <td>233</td>\n",
       "      <td>1</td>\n",
       "      <td>0</td>\n",
       "      <td>150</td>\n",
       "      <td>0</td>\n",
       "      <td>2.3</td>\n",
       "      <td>0</td>\n",
       "      <td>0</td>\n",
       "      <td>1</td>\n",
       "      <td>1</td>\n",
       "    </tr>\n",
       "    <tr>\n",
       "      <th>1</th>\n",
       "      <td>37</td>\n",
       "      <td>1</td>\n",
       "      <td>2</td>\n",
       "      <td>130</td>\n",
       "      <td>250</td>\n",
       "      <td>0</td>\n",
       "      <td>1</td>\n",
       "      <td>187</td>\n",
       "      <td>0</td>\n",
       "      <td>3.5</td>\n",
       "      <td>0</td>\n",
       "      <td>0</td>\n",
       "      <td>2</td>\n",
       "      <td>1</td>\n",
       "    </tr>\n",
       "    <tr>\n",
       "      <th>2</th>\n",
       "      <td>41</td>\n",
       "      <td>0</td>\n",
       "      <td>1</td>\n",
       "      <td>130</td>\n",
       "      <td>204</td>\n",
       "      <td>0</td>\n",
       "      <td>0</td>\n",
       "      <td>172</td>\n",
       "      <td>0</td>\n",
       "      <td>1.4</td>\n",
       "      <td>2</td>\n",
       "      <td>0</td>\n",
       "      <td>2</td>\n",
       "      <td>1</td>\n",
       "    </tr>\n",
       "    <tr>\n",
       "      <th>3</th>\n",
       "      <td>56</td>\n",
       "      <td>1</td>\n",
       "      <td>1</td>\n",
       "      <td>120</td>\n",
       "      <td>236</td>\n",
       "      <td>0</td>\n",
       "      <td>1</td>\n",
       "      <td>178</td>\n",
       "      <td>0</td>\n",
       "      <td>0.8</td>\n",
       "      <td>2</td>\n",
       "      <td>0</td>\n",
       "      <td>2</td>\n",
       "      <td>1</td>\n",
       "    </tr>\n",
       "    <tr>\n",
       "      <th>4</th>\n",
       "      <td>57</td>\n",
       "      <td>0</td>\n",
       "      <td>0</td>\n",
       "      <td>120</td>\n",
       "      <td>354</td>\n",
       "      <td>0</td>\n",
       "      <td>1</td>\n",
       "      <td>163</td>\n",
       "      <td>1</td>\n",
       "      <td>0.6</td>\n",
       "      <td>2</td>\n",
       "      <td>0</td>\n",
       "      <td>2</td>\n",
       "      <td>1</td>\n",
       "    </tr>\n",
       "  </tbody>\n",
       "</table>\n",
       "</div>"
      ],
      "text/plain": [
       "   age  sex  cp  trtbps  chol  fbs  restecg  thalachh  exng  oldpeak  slp  \\\n",
       "0   63    1   3     145   233    1        0       150     0      2.3    0   \n",
       "1   37    1   2     130   250    0        1       187     0      3.5    0   \n",
       "2   41    0   1     130   204    0        0       172     0      1.4    2   \n",
       "3   56    1   1     120   236    0        1       178     0      0.8    2   \n",
       "4   57    0   0     120   354    0        1       163     1      0.6    2   \n",
       "\n",
       "   caa  thall  output  \n",
       "0    0      1       1  \n",
       "1    0      2       1  \n",
       "2    0      2       1  \n",
       "3    0      2       1  \n",
       "4    0      2       1  "
      ]
     },
     "execution_count": 2,
     "metadata": {},
     "output_type": "execute_result"
    }
   ],
   "source": [
    "ha_df = pd.read_csv('heart.csv')\n",
    "ha_df.head()"
   ]
  },
  {
   "cell_type": "markdown",
   "metadata": {
    "id": "P85ldUBLHTRy"
   },
   "source": [
    "## Data Understanding"
   ]
  },
  {
   "cell_type": "code",
   "execution_count": 3,
   "metadata": {
    "id": "6RbD9Z9dHTRy"
   },
   "outputs": [
    {
     "data": {
      "text/plain": [
       "Index(['age', 'sex', 'cp', 'trtbps', 'chol', 'fbs', 'restecg', 'thalachh',\n",
       "       'exng', 'oldpeak', 'slp', 'caa', 'thall', 'output'],\n",
       "      dtype='object')"
      ]
     },
     "execution_count": 3,
     "metadata": {},
     "output_type": "execute_result"
    }
   ],
   "source": [
    "# Display the column names in the dataset\n",
    "ha_df.columns"
   ]
  },
  {
   "cell_type": "markdown",
   "metadata": {
    "id": "7cwc_f0SHTRy"
   },
   "source": [
    "## Explanation of all columns in the dataset:\n",
    "\n",
    "### - 'age': age of the patient\n",
    "### - 'sex': sex of the patient\n",
    "### - 'cp': chest pain type (0=typical angina, 1=atypical angina, 2=non-anginal pain, 3=asymptomatic)\n",
    "### - 'trtbps': resting blood pressure in mm Hg\n",
    "### - 'chol': cholesterol in mg/dl\n",
    "### - 'exng': exercise-induced angina (1=yes, 0=no)\n",
    "### - 'fbs': fasting blood sugar > 120 mg/dl (1=true, 0=false)\n",
    "### - 'restecg': resting electrocardiographic results (0=normal, 1=ST-T wave abnormality, 2=left ventricular hypertrophy)\n",
    "### - 'thalachh': maximum heart rate achieved\n",
    "### - 'slp': slope\n",
    "### - 'caa': number of major vessels\n",
    "### - 'thall': thallium stress test result\n",
    "### - 'output': target (0=less chance of heart attack, 1=more chance of heart attack)"
   ]
  },
  {
   "cell_type": "markdown",
   "metadata": {
    "id": "k8u41wThHTRz"
   },
   "source": [
    "## Data Preparation"
   ]
  },
  {
   "cell_type": "code",
   "execution_count": 4,
   "metadata": {
    "id": "FFDiBeJYHTRz"
   },
   "outputs": [
    {
     "name": "stdout",
     "output_type": "stream",
     "text": [
      "<class 'pandas.core.frame.DataFrame'>\n",
      "RangeIndex: 303 entries, 0 to 302\n",
      "Data columns (total 14 columns):\n",
      " #   Column    Non-Null Count  Dtype  \n",
      "---  ------    --------------  -----  \n",
      " 0   age       303 non-null    int64  \n",
      " 1   sex       303 non-null    int64  \n",
      " 2   cp        303 non-null    int64  \n",
      " 3   trtbps    303 non-null    int64  \n",
      " 4   chol      303 non-null    int64  \n",
      " 5   fbs       303 non-null    int64  \n",
      " 6   restecg   303 non-null    int64  \n",
      " 7   thalachh  303 non-null    int64  \n",
      " 8   exng      303 non-null    int64  \n",
      " 9   oldpeak   303 non-null    float64\n",
      " 10  slp       303 non-null    int64  \n",
      " 11  caa       303 non-null    int64  \n",
      " 12  thall     303 non-null    int64  \n",
      " 13  output    303 non-null    int64  \n",
      "dtypes: float64(1), int64(13)\n",
      "memory usage: 33.3 KB\n"
     ]
    }
   ],
   "source": [
    "# Check data information, data types, and missing values\n",
    "ha_df.info()"
   ]
  },
  {
   "cell_type": "markdown",
   "metadata": {},
   "source": [
    "### list of categorical columns for value checking "
   ]
  },
  {
   "cell_type": "code",
   "execution_count": 5,
   "metadata": {
    "id": "GLtsxul3HTR0"
   },
   "outputs": [],
   "source": [
    "categoric_cols = ['sex', 'cp', 'fbs', 'restecg',\n",
    "                  'exng', 'slp', 'caa', 'thall']"
   ]
  },
  {
   "cell_type": "code",
   "execution_count": 6,
   "metadata": {
    "id": "Bl-40L2qHTR0"
   },
   "outputs": [
    {
     "name": "stdout",
     "output_type": "stream",
     "text": [
      "All values in column sex : \n",
      "0     96\n",
      "1    207\n",
      "Name: sex, dtype: int64\n",
      "\n",
      "\n",
      "All values in column cp : \n",
      "0    143\n",
      "1     50\n",
      "2     87\n",
      "3     23\n",
      "Name: cp, dtype: int64\n",
      "\n",
      "\n",
      "All values in column fbs : \n",
      "0    258\n",
      "1     45\n",
      "Name: fbs, dtype: int64\n",
      "\n",
      "\n",
      "All values in column restecg : \n",
      "0    147\n",
      "1    152\n",
      "2      4\n",
      "Name: restecg, dtype: int64\n",
      "\n",
      "\n",
      "All values in column exng : \n",
      "0    204\n",
      "1     99\n",
      "Name: exng, dtype: int64\n",
      "\n",
      "\n",
      "All values in column slp : \n",
      "0     21\n",
      "1    140\n",
      "2    142\n",
      "Name: slp, dtype: int64\n",
      "\n",
      "\n",
      "All values in column caa : \n",
      "0    175\n",
      "1     65\n",
      "2     38\n",
      "3     20\n",
      "4      5\n",
      "Name: caa, dtype: int64\n",
      "\n",
      "\n",
      "All values in column thall : \n",
      "0      2\n",
      "1     18\n",
      "2    166\n",
      "3    117\n",
      "Name: thall, dtype: int64\n",
      "\n",
      "\n",
      "Categorical columns: ['sex', 'cp', 'fbs', 'restecg', 'exng', 'slp', 'caa', 'thall']\n"
     ]
    }
   ],
   "source": [
    "# Check all unique values in categorical columns\n",
    "\n",
    "for i in categoric_cols:\n",
    "    if i in ha_df.columns:\n",
    "        print('All values in column {0} : \\n{1}'.format(i, ha_df[i].value_counts().sort_index()))\n",
    "        print('\\n')\n",
    "    else:\n",
    "        print(f'Column {i} not found in the DataFrame.')\n",
    "\n",
    "# Print the list of categorical columns\n",
    "print('Categorical columns:', categoric_cols)"
   ]
  },
  {
   "cell_type": "markdown",
   "metadata": {
    "id": "ZdQLh6RNHTR0"
   },
   "source": [
    "## Outliers using boxplots and remove data points outside 1.5*IQR"
   ]
  },
  {
   "cell_type": "code",
   "execution_count": 7,
   "metadata": {
    "id": "tRKe85afHTR0"
   },
   "outputs": [
    {
     "data": {
      "image/png": "[encoded data removed]",
      "text/plain": [
       "<Figure size 720x360 with 5 Axes>"
      ]
     },
     "metadata": {
      "needs_background": "light"
     },
     "output_type": "display_data"
    }
   ],
   "source": [
    "col_num = ['age', 'trtbps', 'chol', 'thalachh', 'oldpeak']\n",
    "plt.figure(figsize=(10,5))\n",
    "for i in range(0,len(col_num)):\n",
    "    plt.subplot(1,len(col_num),i+1)\n",
    "    sns.boxplot(y=ha_df[col_num[i]])\n",
    "    plt.tight_layout()"
   ]
  },
  {
   "cell_type": "code",
   "execution_count": 8,
   "metadata": {
    "id": "0SjoNy9VHTR0"
   },
   "outputs": [],
   "source": [
    "for i in col_num:\n",
    "    Q1 = ha_df[i].quantile(0.25)\n",
    "    Q3 = ha_df[i].quantile(0.75)\n",
    "    IQR = Q3-Q1\n",
    "    LowerBound = Q1 - (1.5 * IQR)\n",
    "    UpperBound = Q3 + (1.5 * IQR)\n",
    "\n",
    "    ha_df = ha_df[(ha_df[i] >= LowerBound)&(ha_df[i] <= UpperBound)]"
   ]
  },
  {
   "cell_type": "code",
   "execution_count": 9,
   "metadata": {
    "id": "IxcwS0mgHTR0"
   },
   "outputs": [
    {
     "data": {
      "image/png": "[encoded data removed]",
      "text/plain": [
       "<Figure size 720x360 with 5 Axes>"
      ]
     },
     "metadata": {
      "needs_background": "light"
     },
     "output_type": "display_data"
    }
   ],
   "source": [
    "# Check outliers after handling\n",
    "\n",
    "col_num = ['age', 'trtbps', 'chol', 'thalachh', 'oldpeak']\n",
    "plt.figure(figsize=(10,5))\n",
    "for i in range(0,len(col_num)):\n",
    "    plt.subplot(1,len(col_num),i+1)\n",
    "    sns.boxplot(y = ha_df[col_num[i]])\n",
    "    plt.tight_layout()"
   ]
  },
  {
   "cell_type": "code",
   "execution_count": 10,
   "metadata": {
    "id": "tT7mBFsPHTR0"
   },
   "outputs": [
    {
     "data": {
      "text/plain": [
       "(284, 14)"
      ]
     },
     "execution_count": 10,
     "metadata": {},
     "output_type": "execute_result"
    }
   ],
   "source": [
    "ha_df.shape"
   ]
  },
  {
   "cell_type": "code",
   "execution_count": 11,
   "metadata": {
    "id": "DC-8YARcHTR1"
   },
   "outputs": [
    {
     "data": {
      "text/plain": [
       "age         0\n",
       "sex         0\n",
       "cp          0\n",
       "trtbps      0\n",
       "chol        0\n",
       "fbs         0\n",
       "restecg     0\n",
       "thalachh    0\n",
       "exng        0\n",
       "oldpeak     0\n",
       "slp         0\n",
       "caa         0\n",
       "thall       0\n",
       "output      0\n",
       "dtype: int64"
      ]
     },
     "execution_count": 11,
     "metadata": {},
     "output_type": "execute_result"
    }
   ],
   "source": [
    "# Missing values\n",
    "ha_df.isna().sum()"
   ]
  },
  {
   "cell_type": "code",
   "execution_count": 12,
   "metadata": {
    "id": "D1gezNieHTR1"
   },
   "outputs": [
    {
     "data": {
      "text/plain": [
       "1"
      ]
     },
     "execution_count": 12,
     "metadata": {},
     "output_type": "execute_result"
    }
   ],
   "source": [
    "# Duplicate data\n",
    "ha_df.duplicated().sum()"
   ]
  },
  {
   "cell_type": "code",
   "execution_count": 13,
   "metadata": {
    "id": "85S2IBF1HTR1"
   },
   "outputs": [],
   "source": [
    "# Remove duplicate rows\n",
    "ha_df = ha_df.drop_duplicates()"
   ]
  },
  {
   "cell_type": "code",
   "execution_count": 14,
   "metadata": {
    "id": "PM4UdKXkHTR1"
   },
   "outputs": [
    {
     "data": {
      "text/plain": [
       "0"
      ]
     },
     "execution_count": 14,
     "metadata": {},
     "output_type": "execute_result"
    }
   ],
   "source": [
    "# Check for duplicate data after removal\n",
    "ha_df.duplicated().sum()"
   ]
  },
  {
   "cell_type": "markdown",
   "metadata": {
    "id": "CTOETvyNHTR1"
   },
   "source": [
    "## Exploratory Data Analysis (EDA)"
   ]
  },
  {
   "cell_type": "code",
   "execution_count": 15,
   "metadata": {
    "id": "BAG8QMagHTR1"
   },
   "outputs": [
    {
     "data": {
      "text/html": [
       "<div>\n",
       "<style scoped>\n",
       "    .dataframe tbody tr th:only-of-type {\n",
       "        vertical-align: middle;\n",
       "    }\n",
       "\n",
       "    .dataframe tbody tr th {\n",
       "        vertical-align: top;\n",
       "    }\n",
       "\n",
       "    .dataframe thead th {\n",
       "        text-align: right;\n",
       "    }\n",
       "</style>\n",
       "<table border=\"1\" class=\"dataframe\">\n",
       "  <thead>\n",
       "    <tr style=\"text-align: right;\">\n",
       "      <th></th>\n",
       "      <th>count</th>\n",
       "      <th>mean</th>\n",
       "      <th>std</th>\n",
       "      <th>min</th>\n",
       "      <th>25%</th>\n",
       "      <th>50%</th>\n",
       "      <th>75%</th>\n",
       "      <th>max</th>\n",
       "    </tr>\n",
       "  </thead>\n",
       "  <tbody>\n",
       "    <tr>\n",
       "      <th>age</th>\n",
       "      <td>283.0</td>\n",
       "      <td>54.049470</td>\n",
       "      <td>9.128186</td>\n",
       "      <td>29.0</td>\n",
       "      <td>47.0</td>\n",
       "      <td>55.0</td>\n",
       "      <td>60.0</td>\n",
       "      <td>77.0</td>\n",
       "    </tr>\n",
       "    <tr>\n",
       "      <th>trtbps</th>\n",
       "      <td>283.0</td>\n",
       "      <td>129.883392</td>\n",
       "      <td>15.387795</td>\n",
       "      <td>94.0</td>\n",
       "      <td>120.0</td>\n",
       "      <td>130.0</td>\n",
       "      <td>140.0</td>\n",
       "      <td>170.0</td>\n",
       "    </tr>\n",
       "    <tr>\n",
       "      <th>chol</th>\n",
       "      <td>283.0</td>\n",
       "      <td>242.314488</td>\n",
       "      <td>44.654188</td>\n",
       "      <td>126.0</td>\n",
       "      <td>210.5</td>\n",
       "      <td>239.0</td>\n",
       "      <td>270.5</td>\n",
       "      <td>360.0</td>\n",
       "    </tr>\n",
       "    <tr>\n",
       "      <th>thalachh</th>\n",
       "      <td>283.0</td>\n",
       "      <td>149.961131</td>\n",
       "      <td>22.691625</td>\n",
       "      <td>88.0</td>\n",
       "      <td>133.5</td>\n",
       "      <td>153.0</td>\n",
       "      <td>168.0</td>\n",
       "      <td>202.0</td>\n",
       "    </tr>\n",
       "    <tr>\n",
       "      <th>oldpeak</th>\n",
       "      <td>283.0</td>\n",
       "      <td>0.951943</td>\n",
       "      <td>1.026400</td>\n",
       "      <td>0.0</td>\n",
       "      <td>0.0</td>\n",
       "      <td>0.6</td>\n",
       "      <td>1.6</td>\n",
       "      <td>4.0</td>\n",
       "    </tr>\n",
       "  </tbody>\n",
       "</table>\n",
       "</div>"
      ],
      "text/plain": [
       "          count        mean        std    min    25%    50%    75%    max\n",
       "age       283.0   54.049470   9.128186   29.0   47.0   55.0   60.0   77.0\n",
       "trtbps    283.0  129.883392  15.387795   94.0  120.0  130.0  140.0  170.0\n",
       "chol      283.0  242.314488  44.654188  126.0  210.5  239.0  270.5  360.0\n",
       "thalachh  283.0  149.961131  22.691625   88.0  133.5  153.0  168.0  202.0\n",
       "oldpeak   283.0    0.951943   1.026400    0.0    0.0    0.6    1.6    4.0"
      ]
     },
     "execution_count": 15,
     "metadata": {},
     "output_type": "execute_result"
    }
   ],
   "source": [
    "# Describe statistics for selected numeric columns\n",
    "ha_df[col_num].describe().transpose()"
   ]
  },
  {
   "cell_type": "code",
   "execution_count": 16,
   "metadata": {
    "id": "W9vosNOcHTR1"
   },
   "outputs": [],
   "source": [
    "df = ha_df"
   ]
  },
  {
   "cell_type": "code",
   "execution_count": 17,
   "metadata": {
    "id": "rhzN-v6jHTR1"
   },
   "outputs": [
    {
     "data": {
      "text/plain": [
       "Index(['age', 'sex', 'cp', 'trtbps', 'chol', 'fbs', 'restecg', 'thalachh',\n",
       "       'exng', 'oldpeak', 'slp', 'caa', 'thall', 'output'],\n",
       "      dtype='object')"
      ]
     },
     "execution_count": 17,
     "metadata": {},
     "output_type": "execute_result"
    }
   ],
   "source": [
    "df.columns"
   ]
  },
  {
   "cell_type": "markdown",
   "metadata": {
    "id": "iVPgSj-cHTR1"
   },
   "source": [
    "## Count Plot"
   ]
  },
  {
   "cell_type": "code",
   "execution_count": 18,
   "metadata": {
    "id": "PpF4JG6lHTR1"
   },
   "outputs": [],
   "source": [
    "# Count plot for categorical columns\n",
    "count = ['sex', 'cp', 'fbs', 'restecg','exng','slp', 'caa', 'thall', 'output']"
   ]
  },
  {
   "cell_type": "code",
   "execution_count": 19,
   "metadata": {
    "id": "AZGc8qPrHTR1",
    "scrolled": false
   },
   "outputs": [
    {
     "data": {
      "image/png": "[encoded data removed]",
      "text/plain": [
       "<Figure size 432x288 with 1 Axes>"
      ]
     },
     "metadata": {
      "needs_background": "light"
     },
     "output_type": "display_data"
    },
    {
     "data": {
      "image/png": "[encoded data removed]",
      "text/plain": [
       "<Figure size 432x288 with 1 Axes>"
      ]
     },
     "metadata": {
      "needs_background": "light"
     },
     "output_type": "display_data"
    },
    {
     "data": {
      "image/png": "[encoded data removed]",
      "text/plain": [
       "<Figure size 432x288 with 1 Axes>"
      ]
     },
     "metadata": {
      "needs_background": "light"
     },
     "output_type": "display_data"
    },
    {
     "data": {
      "image/png": "[encoded data removed]",
      "text/plain": [
       "<Figure size 432x288 with 1 Axes>"
      ]
     },
     "metadata": {
      "needs_background": "light"
     },
     "output_type": "display_data"
    },
    {
     "data": {
      "image/png": "[encoded data removed]",
      "text/plain": [
       "<Figure size 432x288 with 1 Axes>"
      ]
     },
     "metadata": {
      "needs_background": "light"
     },
     "output_type": "display_data"
    },
    {
     "data": {
      "image/png": "[encoded data removed]",
      "text/plain": [
       "<Figure size 432x288 with 1 Axes>"
      ]
     },
     "metadata": {
      "needs_background": "light"
     },
     "output_type": "display_data"
    },
    {
     "data": {
      "image/png": "[encoded data removed]",
      "text/plain": [
       "<Figure size 432x288 with 1 Axes>"
      ]
     },
     "metadata": {
      "needs_background": "light"
     },
     "output_type": "display_data"
    },
    {
     "data": {
      "image/png": "[encoded data removed]",
      "text/plain": [
       "<Figure size 432x288 with 1 Axes>"
      ]
     },
     "metadata": {
      "needs_background": "light"
     },
     "output_type": "display_data"
    },
    {
     "data": {
      "image/png": "[encoded data removed]",
      "text/plain": [
       "<Figure size 432x288 with 1 Axes>"
      ]
     },
     "metadata": {
      "needs_background": "light"
     },
     "output_type": "display_data"
    }
   ],
   "source": [
    "for i in count:\n",
    "    sns.countplot(df[i], palette = 'viridis')\n",
    "    plt.show()"
   ]
  },
  {
   "cell_type": "markdown",
   "metadata": {
    "id": "rw8TqY5EHTR2"
   },
   "source": [
    "## Histograms for selected numeric columns"
   ]
  },
  {
   "cell_type": "code",
   "execution_count": 20,
   "metadata": {
    "id": "Q5qIT6-eHTR2"
   },
   "outputs": [
    {
     "data": {
      "image/png": "[encoded data removed]",
      "text/plain": [
       "<Figure size 432x288 with 1 Axes>"
      ]
     },
     "metadata": {
      "needs_background": "light"
     },
     "output_type": "display_data"
    },
    {
     "data": {
      "image/png": "[encoded data removed]",
      "text/plain": [
       "<Figure size 432x288 with 1 Axes>"
      ]
     },
     "metadata": {
      "needs_background": "light"
     },
     "output_type": "display_data"
    },
    {
     "data": {
      "image/png": "[encoded data removed]",
      "text/plain": [
       "<Figure size 432x288 with 1 Axes>"
      ]
     },
     "metadata": {
      "needs_background": "light"
     },
     "output_type": "display_data"
    },
    {
     "data": {
      "image/png": "[encoded data removed]",
      "text/plain": [
       "<Figure size 432x288 with 1 Axes>"
      ]
     },
     "metadata": {
      "needs_background": "light"
     },
     "output_type": "display_data"
    },
    {
     "data": {
      "image/png": "[encoded data removed]",
      "text/plain": [
       "<Figure size 432x288 with 1 Axes>"
      ]
     },
     "metadata": {
      "needs_background": "light"
     },
     "output_type": "display_data"
    }
   ],
   "source": [
    "i = ['age', 'trtbps', 'chol','thalachh','oldpeak']\n",
    "for j in i:\n",
    "    plt.hist(df[j],bins = 60, color = 'slateblue')\n",
    "    plt.title(j)\n",
    "    plt.show()"
   ]
  },
  {
   "cell_type": "markdown",
   "metadata": {
    "id": "CtAcUbijHTR2"
   },
   "source": [
    "## Checking for Multicollinearity and Feature Selection"
   ]
  },
  {
   "cell_type": "code",
   "execution_count": 21,
   "metadata": {
    "id": "ptVm3q-WHTR2"
   },
   "outputs": [
    {
     "data": {
      "text/html": [
       "<div>\n",
       "<style scoped>\n",
       "    .dataframe tbody tr th:only-of-type {\n",
       "        vertical-align: middle;\n",
       "    }\n",
       "\n",
       "    .dataframe tbody tr th {\n",
       "        vertical-align: top;\n",
       "    }\n",
       "\n",
       "    .dataframe thead th {\n",
       "        text-align: right;\n",
       "    }\n",
       "</style>\n",
       "<table border=\"1\" class=\"dataframe\">\n",
       "  <thead>\n",
       "    <tr style=\"text-align: right;\">\n",
       "      <th></th>\n",
       "      <th>feature</th>\n",
       "      <th>VIF</th>\n",
       "    </tr>\n",
       "  </thead>\n",
       "  <tbody>\n",
       "    <tr>\n",
       "      <th>3</th>\n",
       "      <td>trtbps</td>\n",
       "      <td>67.479395</td>\n",
       "    </tr>\n",
       "    <tr>\n",
       "      <th>7</th>\n",
       "      <td>thalachh</td>\n",
       "      <td>49.071486</td>\n",
       "    </tr>\n",
       "    <tr>\n",
       "      <th>0</th>\n",
       "      <td>age</td>\n",
       "      <td>41.433818</td>\n",
       "    </tr>\n",
       "    <tr>\n",
       "      <th>4</th>\n",
       "      <td>chol</td>\n",
       "      <td>32.397241</td>\n",
       "    </tr>\n",
       "    <tr>\n",
       "      <th>12</th>\n",
       "      <td>thall</td>\n",
       "      <td>17.597185</td>\n",
       "    </tr>\n",
       "    <tr>\n",
       "      <th>10</th>\n",
       "      <td>slp</td>\n",
       "      <td>10.237501</td>\n",
       "    </tr>\n",
       "    <tr>\n",
       "      <th>13</th>\n",
       "      <td>output</td>\n",
       "      <td>4.558433</td>\n",
       "    </tr>\n",
       "    <tr>\n",
       "      <th>1</th>\n",
       "      <td>sex</td>\n",
       "      <td>4.022971</td>\n",
       "    </tr>\n",
       "    <tr>\n",
       "      <th>9</th>\n",
       "      <td>oldpeak</td>\n",
       "      <td>2.998900</td>\n",
       "    </tr>\n",
       "    <tr>\n",
       "      <th>2</th>\n",
       "      <td>cp</td>\n",
       "      <td>2.615809</td>\n",
       "    </tr>\n",
       "    <tr>\n",
       "      <th>6</th>\n",
       "      <td>restecg</td>\n",
       "      <td>2.166608</td>\n",
       "    </tr>\n",
       "    <tr>\n",
       "      <th>8</th>\n",
       "      <td>exng</td>\n",
       "      <td>2.046297</td>\n",
       "    </tr>\n",
       "    <tr>\n",
       "      <th>11</th>\n",
       "      <td>caa</td>\n",
       "      <td>1.998431</td>\n",
       "    </tr>\n",
       "    <tr>\n",
       "      <th>5</th>\n",
       "      <td>fbs</td>\n",
       "      <td>1.249202</td>\n",
       "    </tr>\n",
       "  </tbody>\n",
       "</table>\n",
       "</div>"
      ],
      "text/plain": [
       "     feature        VIF\n",
       "3     trtbps  67.479395\n",
       "7   thalachh  49.071486\n",
       "0        age  41.433818\n",
       "4       chol  32.397241\n",
       "12     thall  17.597185\n",
       "10       slp  10.237501\n",
       "13    output   4.558433\n",
       "1        sex   4.022971\n",
       "9    oldpeak   2.998900\n",
       "2         cp   2.615809\n",
       "6    restecg   2.166608\n",
       "8       exng   2.046297\n",
       "11       caa   1.998431\n",
       "5        fbs   1.249202"
      ]
     },
     "execution_count": 21,
     "metadata": {},
     "output_type": "execute_result"
    }
   ],
   "source": [
    "# Import variance_inflation_factor function from statsmodels\n",
    "from statsmodels.stats.outliers_influence import variance_inflation_factor\n",
    "\n",
    "# Create a DataFrame to store VIF values\n",
    "vif_data = pd.DataFrame()\n",
    "vif_data['feature'] = df.columns\n",
    "\n",
    "# Calculate VIF for each feature\n",
    "vif_data['VIF'] = [variance_inflation_factor(df.values, i) for i in range(len(df.columns))]\n",
    "pd.set_option('display.max_rows', None)\n",
    "\n",
    "# Sort and Display the output\n",
    "vif_data.sort_values(by= 'VIF', ascending = False) # vif limit = 11"
   ]
  },
  {
   "cell_type": "markdown",
   "metadata": {},
   "source": [
    "## Remove columns with VIF greater than the limit (VIF limit = 11)\n",
    "### This step is repeated for different columns\n",
    "ha_df.drop(columns=['trtbps'], inplace=True)"
   ]
  },
  {
   "cell_type": "code",
   "execution_count": 22,
   "metadata": {
    "id": "1Kgdvr1WHTR2"
   },
   "outputs": [],
   "source": [
    "# drop column 'trtbps' (vif > 11)\n",
    "df.drop(columns = ['trtbps'], inplace = True)"
   ]
  },
  {
   "cell_type": "code",
   "execution_count": 23,
   "metadata": {
    "id": "CP4nGZWYHTR2"
   },
   "outputs": [
    {
     "data": {
      "text/html": [
       "<div>\n",
       "<style scoped>\n",
       "    .dataframe tbody tr th:only-of-type {\n",
       "        vertical-align: middle;\n",
       "    }\n",
       "\n",
       "    .dataframe tbody tr th {\n",
       "        vertical-align: top;\n",
       "    }\n",
       "\n",
       "    .dataframe thead th {\n",
       "        text-align: right;\n",
       "    }\n",
       "</style>\n",
       "<table border=\"1\" class=\"dataframe\">\n",
       "  <thead>\n",
       "    <tr style=\"text-align: right;\">\n",
       "      <th></th>\n",
       "      <th>feature</th>\n",
       "      <th>VIF</th>\n",
       "    </tr>\n",
       "  </thead>\n",
       "  <tbody>\n",
       "    <tr>\n",
       "      <th>6</th>\n",
       "      <td>thalachh</td>\n",
       "      <td>40.229316</td>\n",
       "    </tr>\n",
       "    <tr>\n",
       "      <th>3</th>\n",
       "      <td>chol</td>\n",
       "      <td>31.225076</td>\n",
       "    </tr>\n",
       "    <tr>\n",
       "      <th>0</th>\n",
       "      <td>age</td>\n",
       "      <td>29.612135</td>\n",
       "    </tr>\n",
       "    <tr>\n",
       "      <th>11</th>\n",
       "      <td>thall</td>\n",
       "      <td>17.532569</td>\n",
       "    </tr>\n",
       "    <tr>\n",
       "      <th>9</th>\n",
       "      <td>slp</td>\n",
       "      <td>10.231212</td>\n",
       "    </tr>\n",
       "    <tr>\n",
       "      <th>12</th>\n",
       "      <td>output</td>\n",
       "      <td>4.558241</td>\n",
       "    </tr>\n",
       "    <tr>\n",
       "      <th>1</th>\n",
       "      <td>sex</td>\n",
       "      <td>4.001104</td>\n",
       "    </tr>\n",
       "    <tr>\n",
       "      <th>8</th>\n",
       "      <td>oldpeak</td>\n",
       "      <td>2.941578</td>\n",
       "    </tr>\n",
       "    <tr>\n",
       "      <th>2</th>\n",
       "      <td>cp</td>\n",
       "      <td>2.596913</td>\n",
       "    </tr>\n",
       "    <tr>\n",
       "      <th>5</th>\n",
       "      <td>restecg</td>\n",
       "      <td>2.164959</td>\n",
       "    </tr>\n",
       "    <tr>\n",
       "      <th>7</th>\n",
       "      <td>exng</td>\n",
       "      <td>2.035545</td>\n",
       "    </tr>\n",
       "    <tr>\n",
       "      <th>10</th>\n",
       "      <td>caa</td>\n",
       "      <td>1.997378</td>\n",
       "    </tr>\n",
       "    <tr>\n",
       "      <th>4</th>\n",
       "      <td>fbs</td>\n",
       "      <td>1.242930</td>\n",
       "    </tr>\n",
       "  </tbody>\n",
       "</table>\n",
       "</div>"
      ],
      "text/plain": [
       "     feature        VIF\n",
       "6   thalachh  40.229316\n",
       "3       chol  31.225076\n",
       "0        age  29.612135\n",
       "11     thall  17.532569\n",
       "9        slp  10.231212\n",
       "12    output   4.558241\n",
       "1        sex   4.001104\n",
       "8    oldpeak   2.941578\n",
       "2         cp   2.596913\n",
       "5    restecg   2.164959\n",
       "7       exng   2.035545\n",
       "10       caa   1.997378\n",
       "4        fbs   1.242930"
      ]
     },
     "execution_count": 23,
     "metadata": {},
     "output_type": "execute_result"
    }
   ],
   "source": [
    "vif_data = pd.DataFrame()\n",
    "vif_data['feature'] = df.columns\n",
    "vif_data['VIF'] = [variance_inflation_factor(df.values, i) for i in range(len(df.columns))]\n",
    "pd.set_option('display.max_rows', None)\n",
    "vif_data.sort_values(by= 'VIF', ascending = False) # vif limit = 11"
   ]
  },
  {
   "cell_type": "code",
   "execution_count": 24,
   "metadata": {
    "id": "RhS12mLvHTR2"
   },
   "outputs": [],
   "source": [
    "# drop column 'thalachh' (vif > 11)\n",
    "df.drop(columns = ['thalachh'], inplace = True)"
   ]
  },
  {
   "cell_type": "code",
   "execution_count": 25,
   "metadata": {
    "id": "DNH_zvwJHTR2"
   },
   "outputs": [
    {
     "data": {
      "text/html": [
       "<div>\n",
       "<style scoped>\n",
       "    .dataframe tbody tr th:only-of-type {\n",
       "        vertical-align: middle;\n",
       "    }\n",
       "\n",
       "    .dataframe tbody tr th {\n",
       "        vertical-align: top;\n",
       "    }\n",
       "\n",
       "    .dataframe thead th {\n",
       "        text-align: right;\n",
       "    }\n",
       "</style>\n",
       "<table border=\"1\" class=\"dataframe\">\n",
       "  <thead>\n",
       "    <tr style=\"text-align: right;\">\n",
       "      <th></th>\n",
       "      <th>feature</th>\n",
       "      <th>VIF</th>\n",
       "    </tr>\n",
       "  </thead>\n",
       "  <tbody>\n",
       "    <tr>\n",
       "      <th>0</th>\n",
       "      <td>age</td>\n",
       "      <td>28.887183</td>\n",
       "    </tr>\n",
       "    <tr>\n",
       "      <th>3</th>\n",
       "      <td>chol</td>\n",
       "      <td>26.287462</td>\n",
       "    </tr>\n",
       "    <tr>\n",
       "      <th>10</th>\n",
       "      <td>thall</td>\n",
       "      <td>16.339419</td>\n",
       "    </tr>\n",
       "    <tr>\n",
       "      <th>8</th>\n",
       "      <td>slp</td>\n",
       "      <td>9.095234</td>\n",
       "    </tr>\n",
       "    <tr>\n",
       "      <th>11</th>\n",
       "      <td>output</td>\n",
       "      <td>4.045895</td>\n",
       "    </tr>\n",
       "    <tr>\n",
       "      <th>1</th>\n",
       "      <td>sex</td>\n",
       "      <td>3.765843</td>\n",
       "    </tr>\n",
       "    <tr>\n",
       "      <th>7</th>\n",
       "      <td>oldpeak</td>\n",
       "      <td>2.912625</td>\n",
       "    </tr>\n",
       "    <tr>\n",
       "      <th>2</th>\n",
       "      <td>cp</td>\n",
       "      <td>2.553355</td>\n",
       "    </tr>\n",
       "    <tr>\n",
       "      <th>5</th>\n",
       "      <td>restecg</td>\n",
       "      <td>2.148942</td>\n",
       "    </tr>\n",
       "    <tr>\n",
       "      <th>6</th>\n",
       "      <td>exng</td>\n",
       "      <td>2.016190</td>\n",
       "    </tr>\n",
       "    <tr>\n",
       "      <th>9</th>\n",
       "      <td>caa</td>\n",
       "      <td>1.974921</td>\n",
       "    </tr>\n",
       "    <tr>\n",
       "      <th>4</th>\n",
       "      <td>fbs</td>\n",
       "      <td>1.241227</td>\n",
       "    </tr>\n",
       "  </tbody>\n",
       "</table>\n",
       "</div>"
      ],
      "text/plain": [
       "    feature        VIF\n",
       "0       age  28.887183\n",
       "3      chol  26.287462\n",
       "10    thall  16.339419\n",
       "8       slp   9.095234\n",
       "11   output   4.045895\n",
       "1       sex   3.765843\n",
       "7   oldpeak   2.912625\n",
       "2        cp   2.553355\n",
       "5   restecg   2.148942\n",
       "6      exng   2.016190\n",
       "9       caa   1.974921\n",
       "4       fbs   1.241227"
      ]
     },
     "execution_count": 25,
     "metadata": {},
     "output_type": "execute_result"
    }
   ],
   "source": [
    "vif_data = pd.DataFrame()\n",
    "vif_data['feature'] = df.columns\n",
    "vif_data['VIF'] = [variance_inflation_factor(df.values, i) for i in range(len(df.columns))]\n",
    "pd.set_option('display.max_rows', None)\n",
    "vif_data.sort_values(by= 'VIF', ascending = False) # vif limit = 11"
   ]
  },
  {
   "cell_type": "code",
   "execution_count": 26,
   "metadata": {
    "id": "IZ05dKuBHTR2"
   },
   "outputs": [],
   "source": [
    "# drop column 'age' (vif > 11)\n",
    "df.drop(columns = ['age'], inplace = True)"
   ]
  },
  {
   "cell_type": "code",
   "execution_count": 27,
   "metadata": {
    "id": "tTOgGyg5HTR2"
   },
   "outputs": [
    {
     "data": {
      "text/html": [
       "<div>\n",
       "<style scoped>\n",
       "    .dataframe tbody tr th:only-of-type {\n",
       "        vertical-align: middle;\n",
       "    }\n",
       "\n",
       "    .dataframe tbody tr th {\n",
       "        vertical-align: top;\n",
       "    }\n",
       "\n",
       "    .dataframe thead th {\n",
       "        text-align: right;\n",
       "    }\n",
       "</style>\n",
       "<table border=\"1\" class=\"dataframe\">\n",
       "  <thead>\n",
       "    <tr style=\"text-align: right;\">\n",
       "      <th></th>\n",
       "      <th>feature</th>\n",
       "      <th>VIF</th>\n",
       "    </tr>\n",
       "  </thead>\n",
       "  <tbody>\n",
       "    <tr>\n",
       "      <th>2</th>\n",
       "      <td>chol</td>\n",
       "      <td>17.937794</td>\n",
       "    </tr>\n",
       "    <tr>\n",
       "      <th>9</th>\n",
       "      <td>thall</td>\n",
       "      <td>15.369374</td>\n",
       "    </tr>\n",
       "    <tr>\n",
       "      <th>7</th>\n",
       "      <td>slp</td>\n",
       "      <td>8.911986</td>\n",
       "    </tr>\n",
       "    <tr>\n",
       "      <th>10</th>\n",
       "      <td>output</td>\n",
       "      <td>3.937079</td>\n",
       "    </tr>\n",
       "    <tr>\n",
       "      <th>0</th>\n",
       "      <td>sex</td>\n",
       "      <td>3.762219</td>\n",
       "    </tr>\n",
       "    <tr>\n",
       "      <th>6</th>\n",
       "      <td>oldpeak</td>\n",
       "      <td>2.713075</td>\n",
       "    </tr>\n",
       "    <tr>\n",
       "      <th>1</th>\n",
       "      <td>cp</td>\n",
       "      <td>2.532267</td>\n",
       "    </tr>\n",
       "    <tr>\n",
       "      <th>4</th>\n",
       "      <td>restecg</td>\n",
       "      <td>2.144378</td>\n",
       "    </tr>\n",
       "    <tr>\n",
       "      <th>5</th>\n",
       "      <td>exng</td>\n",
       "      <td>2.007930</td>\n",
       "    </tr>\n",
       "    <tr>\n",
       "      <th>8</th>\n",
       "      <td>caa</td>\n",
       "      <td>1.853003</td>\n",
       "    </tr>\n",
       "    <tr>\n",
       "      <th>3</th>\n",
       "      <td>fbs</td>\n",
       "      <td>1.230984</td>\n",
       "    </tr>\n",
       "  </tbody>\n",
       "</table>\n",
       "</div>"
      ],
      "text/plain": [
       "    feature        VIF\n",
       "2      chol  17.937794\n",
       "9     thall  15.369374\n",
       "7       slp   8.911986\n",
       "10   output   3.937079\n",
       "0       sex   3.762219\n",
       "6   oldpeak   2.713075\n",
       "1        cp   2.532267\n",
       "4   restecg   2.144378\n",
       "5      exng   2.007930\n",
       "8       caa   1.853003\n",
       "3       fbs   1.230984"
      ]
     },
     "execution_count": 27,
     "metadata": {},
     "output_type": "execute_result"
    }
   ],
   "source": [
    "vif_data = pd.DataFrame()\n",
    "vif_data['feature'] = df.columns\n",
    "vif_data['VIF'] = [variance_inflation_factor(df.values, i) for i in range(len(df.columns))]\n",
    "pd.set_option('display.max_rows', None)\n",
    "vif_data.sort_values(by= 'VIF', ascending = False) # vif limit = 11"
   ]
  },
  {
   "cell_type": "code",
   "execution_count": 28,
   "metadata": {
    "id": "Cjwot9CyHTR7"
   },
   "outputs": [],
   "source": [
    "# drop column 'chol' (vif > 11)\n",
    "df.drop(columns = ['chol'], inplace = True)"
   ]
  },
  {
   "cell_type": "code",
   "execution_count": 29,
   "metadata": {
    "id": "5-3AF1TFHTR7"
   },
   "outputs": [
    {
     "data": {
      "text/html": [
       "<div>\n",
       "<style scoped>\n",
       "    .dataframe tbody tr th:only-of-type {\n",
       "        vertical-align: middle;\n",
       "    }\n",
       "\n",
       "    .dataframe tbody tr th {\n",
       "        vertical-align: top;\n",
       "    }\n",
       "\n",
       "    .dataframe thead th {\n",
       "        text-align: right;\n",
       "    }\n",
       "</style>\n",
       "<table border=\"1\" class=\"dataframe\">\n",
       "  <thead>\n",
       "    <tr style=\"text-align: right;\">\n",
       "      <th></th>\n",
       "      <th>feature</th>\n",
       "      <th>VIF</th>\n",
       "    </tr>\n",
       "  </thead>\n",
       "  <tbody>\n",
       "    <tr>\n",
       "      <th>8</th>\n",
       "      <td>thall</td>\n",
       "      <td>10.628714</td>\n",
       "    </tr>\n",
       "    <tr>\n",
       "      <th>6</th>\n",
       "      <td>slp</td>\n",
       "      <td>7.524873</td>\n",
       "    </tr>\n",
       "    <tr>\n",
       "      <th>0</th>\n",
       "      <td>sex</td>\n",
       "      <td>3.757474</td>\n",
       "    </tr>\n",
       "    <tr>\n",
       "      <th>9</th>\n",
       "      <td>output</td>\n",
       "      <td>3.713174</td>\n",
       "    </tr>\n",
       "    <tr>\n",
       "      <th>5</th>\n",
       "      <td>oldpeak</td>\n",
       "      <td>2.557867</td>\n",
       "    </tr>\n",
       "    <tr>\n",
       "      <th>1</th>\n",
       "      <td>cp</td>\n",
       "      <td>2.512613</td>\n",
       "    </tr>\n",
       "    <tr>\n",
       "      <th>3</th>\n",
       "      <td>restecg</td>\n",
       "      <td>2.135752</td>\n",
       "    </tr>\n",
       "    <tr>\n",
       "      <th>4</th>\n",
       "      <td>exng</td>\n",
       "      <td>1.946123</td>\n",
       "    </tr>\n",
       "    <tr>\n",
       "      <th>7</th>\n",
       "      <td>caa</td>\n",
       "      <td>1.828787</td>\n",
       "    </tr>\n",
       "    <tr>\n",
       "      <th>2</th>\n",
       "      <td>fbs</td>\n",
       "      <td>1.220503</td>\n",
       "    </tr>\n",
       "  </tbody>\n",
       "</table>\n",
       "</div>"
      ],
      "text/plain": [
       "   feature        VIF\n",
       "8    thall  10.628714\n",
       "6      slp   7.524873\n",
       "0      sex   3.757474\n",
       "9   output   3.713174\n",
       "5  oldpeak   2.557867\n",
       "1       cp   2.512613\n",
       "3  restecg   2.135752\n",
       "4     exng   1.946123\n",
       "7      caa   1.828787\n",
       "2      fbs   1.220503"
      ]
     },
     "execution_count": 29,
     "metadata": {},
     "output_type": "execute_result"
    }
   ],
   "source": [
    "vif_data = pd.DataFrame()\n",
    "vif_data['feature'] = df.columns\n",
    "vif_data['VIF'] = [variance_inflation_factor(df.values, i) for i in range(len(df.columns))]\n",
    "pd.set_option('display.max_rows', None)\n",
    "vif_data.sort_values(by= 'VIF', ascending = False) # vif limit = 11"
   ]
  },
  {
   "cell_type": "code",
   "execution_count": 30,
   "metadata": {
    "id": "V4_-Hds4HTR8"
   },
   "outputs": [
    {
     "data": {
      "text/plain": [
       "Index(['sex', 'cp', 'fbs', 'restecg', 'exng', 'oldpeak', 'slp', 'caa', 'thall',\n",
       "       'output'],\n",
       "      dtype='object')"
      ]
     },
     "execution_count": 30,
     "metadata": {},
     "output_type": "execute_result"
    }
   ],
   "source": [
    "df.columns"
   ]
  },
  {
   "cell_type": "code",
   "execution_count": 31,
   "metadata": {
    "id": "d1cnXVCmHTR8"
   },
   "outputs": [
    {
     "name": "stdout",
     "output_type": "stream",
     "text": [
      "Pearson Correlation,\n"
     ]
    },
    {
     "data": {
      "image/png": "[encoded data removed]",
      "text/plain": [
       "<Figure size 792x792 with 2 Axes>"
      ]
     },
     "metadata": {
      "needs_background": "light"
     },
     "output_type": "display_data"
    },
    {
     "name": "stdout",
     "output_type": "stream",
     "text": [
      "abs corr score: \n",
      "sex        0.318896\n",
      "cp         0.416319\n",
      "fbs        0.027210\n",
      "restecg    0.171453\n",
      "exng       0.431599\n",
      "oldpeak    0.434108\n",
      "slp        0.326473\n",
      "caa        0.397733\n",
      "thall      0.349150\n",
      "Name: output, dtype: float64\n",
      "\n",
      "\n",
      "mean 0.31921551302804485\n",
      "\n",
      "\n",
      "feature selection result: \n",
      "cp         0.416319\n",
      "exng       0.431599\n",
      "oldpeak    0.434108\n",
      "slp        0.326473\n",
      "caa        0.397733\n",
      "thall      0.349150\n",
      "Name: output, dtype: float64\n"
     ]
    }
   ],
   "source": [
    "print('Pearson Correlation,')\n",
    "plt.figure(figsize = (11,11))\n",
    "cor = df.corr().iloc[:,-1:]\n",
    "sns.heatmap(cor, annot = True, cmap = plt.cm.Blues)\n",
    "plt.show()\n",
    "\n",
    "print('abs corr score: ')\n",
    "print(abs(cor['output'][0:-1]))\n",
    "cor['output'] = cor['output'][0:-1]\n",
    "margin = abs(cor['output'][0:-1]).mean()\n",
    "\n",
    "print('\\n')\n",
    "\n",
    "print('mean {0}'.format(margin))\n",
    "\n",
    "print('\\n')\n",
    "\n",
    "print('feature selection result: ')\n",
    "fs = abs(cor['output'][0:-1])[abs(cor['output']) > margin]\n",
    "print(fs)"
   ]
  },
  {
   "cell_type": "code",
   "execution_count": 32,
   "metadata": {
    "id": "-Elznn6jHTR8"
   },
   "outputs": [],
   "source": [
    "df = df.drop(columns = ['sex', 'fbs', 'restecg', 'slp'])"
   ]
  },
  {
   "cell_type": "code",
   "execution_count": 33,
   "metadata": {
    "id": "Jimi9GjgHTR8"
   },
   "outputs": [
    {
     "data": {
      "text/plain": [
       "Index(['cp', 'exng', 'oldpeak', 'caa', 'thall', 'output'], dtype='object')"
      ]
     },
     "execution_count": 33,
     "metadata": {},
     "output_type": "execute_result"
    }
   ],
   "source": [
    "df.columns"
   ]
  },
  {
   "cell_type": "code",
   "execution_count": 34,
   "metadata": {
    "id": "5vMFuh7nHTR9"
   },
   "outputs": [
    {
     "data": {
      "text/html": [
       "<div>\n",
       "<style scoped>\n",
       "    .dataframe tbody tr th:only-of-type {\n",
       "        vertical-align: middle;\n",
       "    }\n",
       "\n",
       "    .dataframe tbody tr th {\n",
       "        vertical-align: top;\n",
       "    }\n",
       "\n",
       "    .dataframe thead th {\n",
       "        text-align: right;\n",
       "    }\n",
       "</style>\n",
       "<table border=\"1\" class=\"dataframe\">\n",
       "  <thead>\n",
       "    <tr style=\"text-align: right;\">\n",
       "      <th></th>\n",
       "      <th>cp</th>\n",
       "      <th>exng</th>\n",
       "      <th>oldpeak</th>\n",
       "      <th>caa</th>\n",
       "      <th>thall</th>\n",
       "      <th>output</th>\n",
       "    </tr>\n",
       "  </thead>\n",
       "  <tbody>\n",
       "    <tr>\n",
       "      <th>0</th>\n",
       "      <td>3</td>\n",
       "      <td>0</td>\n",
       "      <td>2.3</td>\n",
       "      <td>0</td>\n",
       "      <td>1</td>\n",
       "      <td>1</td>\n",
       "    </tr>\n",
       "    <tr>\n",
       "      <th>1</th>\n",
       "      <td>2</td>\n",
       "      <td>0</td>\n",
       "      <td>3.5</td>\n",
       "      <td>0</td>\n",
       "      <td>2</td>\n",
       "      <td>1</td>\n",
       "    </tr>\n",
       "    <tr>\n",
       "      <th>2</th>\n",
       "      <td>1</td>\n",
       "      <td>0</td>\n",
       "      <td>1.4</td>\n",
       "      <td>0</td>\n",
       "      <td>2</td>\n",
       "      <td>1</td>\n",
       "    </tr>\n",
       "    <tr>\n",
       "      <th>3</th>\n",
       "      <td>1</td>\n",
       "      <td>0</td>\n",
       "      <td>0.8</td>\n",
       "      <td>0</td>\n",
       "      <td>2</td>\n",
       "      <td>1</td>\n",
       "    </tr>\n",
       "    <tr>\n",
       "      <th>4</th>\n",
       "      <td>0</td>\n",
       "      <td>1</td>\n",
       "      <td>0.6</td>\n",
       "      <td>0</td>\n",
       "      <td>2</td>\n",
       "      <td>1</td>\n",
       "    </tr>\n",
       "  </tbody>\n",
       "</table>\n",
       "</div>"
      ],
      "text/plain": [
       "   cp  exng  oldpeak  caa  thall  output\n",
       "0   3     0      2.3    0      1       1\n",
       "1   2     0      3.5    0      2       1\n",
       "2   1     0      1.4    0      2       1\n",
       "3   1     0      0.8    0      2       1\n",
       "4   0     1      0.6    0      2       1"
      ]
     },
     "execution_count": 34,
     "metadata": {},
     "output_type": "execute_result"
    }
   ],
   "source": [
    "df.head()"
   ]
  },
  {
   "cell_type": "markdown",
   "metadata": {
    "id": "yCRwL8naHTR9"
   },
   "source": [
    "## Train-Test Split"
   ]
  },
  {
   "cell_type": "code",
   "execution_count": 35,
   "metadata": {
    "id": "5YQ9Xw1qHTR9"
   },
   "outputs": [],
   "source": [
    "# Define input features and target variable\n",
    "X = df.drop(columns=['output'])\n",
    "y = df['output']\n",
    "\n",
    "# Import train_test_split function from sklearn\n",
    "from sklearn.model_selection import train_test_split\n",
    "\n",
    "# Split the dataset into training and testing sets\n",
    "X_train, X_test, y_train, y_test = train_test_split(X, y, test_size = 0.2, random_state = 0)"
   ]
  },
  {
   "cell_type": "markdown",
   "metadata": {
    "id": "9iYtVPZaHTR9"
   },
   "source": [
    "## Hyperparameter Tuning"
   ]
  },
  {
   "cell_type": "code",
   "execution_count": 36,
   "metadata": {
    "id": "-RF46ugMHTR9"
   },
   "outputs": [],
   "source": [
    "from sklearn import svm\n",
    "from sklearn.linear_model import LogisticRegression\n",
    "from sklearn.tree import DecisionTreeClassifier\n",
    "from sklearn.svm import SVC\n",
    "\n",
    "# Define model parameters for hyperparameter tuning\n",
    "model_params = {\n",
    "    'Logistic_Regression': {\n",
    "        'model': LogisticRegression(),\n",
    "        'params' : {\n",
    "            'penalty':['l1', 'l2', 'elasticnet', 'none'],\n",
    "            'solver': ['newton-cg', 'lbfgs', 'liblinear', 'sag', 'saga'],\n",
    "            'multi_class': ['auto', 'ovr', 'multinomial'],\n",
    "        }\n",
    "    },\n",
    "    'decision_tree':{\n",
    "        'model':DecisionTreeClassifier(),\n",
    "        'params':{\n",
    "            'splitter':['best','random'],\n",
    "            'max_features': ['auto', 'sqrt', 'log2'],\n",
    "            'max_depth' : [4,5,6,7,8],\n",
    "            'criterion' :['gini', 'entropy']\n",
    "        }\n",
    "    },\n",
    "    'SVM_Classifier':{\n",
    "        'model' : SVC(),\n",
    "        'params':{\n",
    "            'kernel' : ['rbf','poly','sigmoid','linear'],\n",
    "            'gamma' : ['scale','auto'],\n",
    "        }\n",
    "    }\n",
    "    }\n",
    "scores = []"
   ]
  },
  {
   "cell_type": "code",
   "execution_count": 37,
   "metadata": {},
   "outputs": [],
   "source": [
    "# Import GridSearchCV from sklearn.model_selection\n",
    "from sklearn.model_selection import GridSearchCV"
   ]
  },
  {
   "cell_type": "code",
   "execution_count": 38,
   "metadata": {},
   "outputs": [],
   "source": [
    "# Perform hyperparameter tuning for each model\n",
    "for model_name, mp in model_params.items():\n",
    "    clf =  GridSearchCV(mp['model'], mp['params'], cv=3, return_train_score=False)\n",
    "    clf.fit(X_train,y_train)\n",
    "    scores.append({\n",
    "        'model': model_name,\n",
    "        'best_score': clf.best_score_,\n",
    "        'best_params': clf.best_params_\n",
    "    })"
   ]
  },
  {
   "cell_type": "code",
   "execution_count": 39,
   "metadata": {},
   "outputs": [
    {
     "data": {
      "text/html": [
       "<div>\n",
       "<style scoped>\n",
       "    .dataframe tbody tr th:only-of-type {\n",
       "        vertical-align: middle;\n",
       "    }\n",
       "\n",
       "    .dataframe tbody tr th {\n",
       "        vertical-align: top;\n",
       "    }\n",
       "\n",
       "    .dataframe thead th {\n",
       "        text-align: right;\n",
       "    }\n",
       "</style>\n",
       "<table border=\"1\" class=\"dataframe\">\n",
       "  <thead>\n",
       "    <tr style=\"text-align: right;\">\n",
       "      <th></th>\n",
       "      <th>model</th>\n",
       "      <th>best_score</th>\n",
       "      <th>best_params</th>\n",
       "    </tr>\n",
       "  </thead>\n",
       "  <tbody>\n",
       "    <tr>\n",
       "      <th>0</th>\n",
       "      <td>Logistic_Regression</td>\n",
       "      <td>0.832047</td>\n",
       "      <td>{'multi_class': 'auto', 'penalty': 'l1', 'solv...</td>\n",
       "    </tr>\n",
       "    <tr>\n",
       "      <th>1</th>\n",
       "      <td>decision_tree</td>\n",
       "      <td>0.827661</td>\n",
       "      <td>{'criterion': 'entropy', 'max_depth': 5, 'max_...</td>\n",
       "    </tr>\n",
       "    <tr>\n",
       "      <th>2</th>\n",
       "      <td>SVM_Classifier</td>\n",
       "      <td>0.845205</td>\n",
       "      <td>{'gamma': 'auto', 'kernel': 'rbf'}</td>\n",
       "    </tr>\n",
       "  </tbody>\n",
       "</table>\n",
       "</div>"
      ],
      "text/plain": [
       "                 model  best_score  \\\n",
       "0  Logistic_Regression    0.832047   \n",
       "1        decision_tree    0.827661   \n",
       "2       SVM_Classifier    0.845205   \n",
       "\n",
       "                                         best_params  \n",
       "0  {'multi_class': 'auto', 'penalty': 'l1', 'solv...  \n",
       "1  {'criterion': 'entropy', 'max_depth': 5, 'max_...  \n",
       "2                 {'gamma': 'auto', 'kernel': 'rbf'}  "
      ]
     },
     "execution_count": 39,
     "metadata": {},
     "output_type": "execute_result"
    }
   ],
   "source": [
    "# Store the results in a DataFrame\n",
    "best = pd.DataFrame(scores,columns=['model','best_score','best_params'])\n",
    "best"
   ]
  },
  {
   "cell_type": "markdown",
   "metadata": {
    "id": "w3QFjqSmHTR9"
   },
   "source": [
    "## Modeling"
   ]
  },
  {
   "cell_type": "markdown",
   "metadata": {
    "id": "rFXfUgEbHTR9"
   },
   "source": [
    "## 1. Logistic Regression"
   ]
  },
  {
   "cell_type": "code",
   "execution_count": 40,
   "metadata": {
    "id": "HyHGZqBoHTR9"
   },
   "outputs": [
    {
     "data": {
      "text/plain": [
       "{'multi_class': 'auto', 'penalty': 'l1', 'solver': 'saga'}"
      ]
     },
     "execution_count": 40,
     "metadata": {},
     "output_type": "execute_result"
    }
   ],
   "source": [
    "# Select the best parameters for Logistic Regression\n",
    "best.best_params[0]"
   ]
  },
  {
   "cell_type": "code",
   "execution_count": 41,
   "metadata": {
    "id": "Qc98IIdyHTR9"
   },
   "outputs": [],
   "source": [
    "# Create a Logistic Regression model with the best parameters and fit it to the training data\n",
    "model = LogisticRegression(solver = 'saga',\n",
    "                           penalty = 'l1',\n",
    "                           multi_class = 'auto')\n",
    "model.fit(X_train,y_train)\n",
    "y_predict = model.predict(X_test)"
   ]
  },
  {
   "cell_type": "markdown",
   "metadata": {
    "id": "QlObvtKvHTR9"
   },
   "source": [
    "### Evaluation"
   ]
  },
  {
   "cell_type": "code",
   "execution_count": 42,
   "metadata": {
    "id": "rYkvSLkNHTR9"
   },
   "outputs": [
    {
     "name": "stdout",
     "output_type": "stream",
     "text": [
      "[[23  4]\n",
      " [ 3 27]]\n"
     ]
    }
   ],
   "source": [
    "# Import confusion_matrix from sklearn.metrics\n",
    "from sklearn.metrics import confusion_matrix\n",
    "print(confusion_matrix(y_test, y_predict))"
   ]
  },
  {
   "cell_type": "code",
   "execution_count": 43,
   "metadata": {},
   "outputs": [
    {
     "data": {
      "image/png": "[encoded data removed]",
      "text/plain": [
       "<Figure size 432x288 with 2 Axes>"
      ]
     },
     "metadata": {
      "needs_background": "light"
     },
     "output_type": "display_data"
    }
   ],
   "source": [
    "# Plot the confusion matrix\n",
    "import seaborn as sns\n",
    "sns.heatmap(confusion_matrix(y_test, y_predict), annot = True)\n",
    "plt.show()"
   ]
  },
  {
   "cell_type": "code",
   "execution_count": 44,
   "metadata": {},
   "outputs": [
    {
     "name": "stdout",
     "output_type": "stream",
     "text": [
      "\n",
      "\n",
      "Classification Report:\n",
      "              precision    recall  f1-score   support\n",
      "\n",
      "           0       0.88      0.85      0.87        27\n",
      "           1       0.87      0.90      0.89        30\n",
      "\n",
      "    accuracy                           0.88        57\n",
      "   macro avg       0.88      0.88      0.88        57\n",
      "weighted avg       0.88      0.88      0.88        57\n",
      "\n"
     ]
    }
   ],
   "source": [
    "# Import classification_report from sklearn.metrics\n",
    "from sklearn.metrics import classification_report\n",
    "\n",
    "# Display the classification report\n",
    "print('\\n')\n",
    "print('Classification Report:')\n",
    "print(classification_report(y_test, y_predict))"
   ]
  },
  {
   "cell_type": "markdown",
   "metadata": {
    "id": "mVcSy6NnHTR9"
   },
   "source": [
    "## 2. Decision Tree"
   ]
  },
  {
   "cell_type": "code",
   "execution_count": 45,
   "metadata": {
    "id": "NA92ALBXHTR9"
   },
   "outputs": [
    {
     "data": {
      "text/plain": [
       "{'criterion': 'entropy',\n",
       " 'max_depth': 5,\n",
       " 'max_features': 'log2',\n",
       " 'splitter': 'best'}"
      ]
     },
     "execution_count": 45,
     "metadata": {},
     "output_type": "execute_result"
    }
   ],
   "source": [
    "# Select the best parameters for Decision Tree\n",
    "best.best_params[1]"
   ]
  },
  {
   "cell_type": "code",
   "execution_count": 46,
   "metadata": {
    "id": "fpmd5BF8HTR9"
   },
   "outputs": [],
   "source": [
    "# Create a Decision Tree model with the best parameters and fit it to the training data\n",
    "model = DecisionTreeClassifier(criterion = 'gini',\n",
    "                               max_depth = 5,\n",
    "                               max_features = 'log2',\n",
    "                               splitter = 'best')\n",
    "model.fit(X_train,y_train)\n",
    "y_predict = model.predict(X_test)"
   ]
  },
  {
   "cell_type": "markdown",
   "metadata": {
    "id": "ha3nj_23HTR-"
   },
   "source": [
    "### Evaluation"
   ]
  },
  {
   "cell_type": "code",
   "execution_count": 47,
   "metadata": {
    "id": "vjvbHaHPHTR-"
   },
   "outputs": [
    {
     "name": "stdout",
     "output_type": "stream",
     "text": [
      "[[19  8]\n",
      " [ 4 26]]\n"
     ]
    }
   ],
   "source": [
    "# Display the confusion matrix for Decision Tree\n",
    "from sklearn.metrics import confusion_matrix\n",
    "print(confusion_matrix(y_test, y_predict))"
   ]
  },
  {
   "cell_type": "code",
   "execution_count": 48,
   "metadata": {},
   "outputs": [
    {
     "data": {
      "image/png": "[encoded data removed]",
      "text/plain": [
       "<Figure size 432x288 with 2 Axes>"
      ]
     },
     "metadata": {
      "needs_background": "light"
     },
     "output_type": "display_data"
    }
   ],
   "source": [
    "# Plot the confusion matrix for Decision Tree\n",
    "import seaborn as sns\n",
    "sns.heatmap(confusion_matrix(y_test, y_predict), annot = True)\n",
    "plt.show()"
   ]
  },
  {
   "cell_type": "code",
   "execution_count": 49,
   "metadata": {},
   "outputs": [
    {
     "name": "stdout",
     "output_type": "stream",
     "text": [
      "\n",
      "\n",
      "Classification Report:\n",
      "              precision    recall  f1-score   support\n",
      "\n",
      "           0       0.83      0.70      0.76        27\n",
      "           1       0.76      0.87      0.81        30\n",
      "\n",
      "    accuracy                           0.79        57\n",
      "   macro avg       0.80      0.79      0.79        57\n",
      "weighted avg       0.79      0.79      0.79        57\n",
      "\n"
     ]
    }
   ],
   "source": [
    "# Display the classification report for Decision Tree\n",
    "from sklearn.metrics import classification_report\n",
    "print('\\n')\n",
    "print('Classification Report:')\n",
    "print(classification_report(y_test, y_predict))"
   ]
  },
  {
   "cell_type": "markdown",
   "metadata": {
    "id": "YektN707HTR-"
   },
   "source": [
    "## 3. Support Vector Machine (SVM)"
   ]
  },
  {
   "cell_type": "code",
   "execution_count": 50,
   "metadata": {
    "id": "GkfGLu13HTR-"
   },
   "outputs": [
    {
     "data": {
      "text/plain": [
       "{'gamma': 'auto', 'kernel': 'rbf'}"
      ]
     },
     "execution_count": 50,
     "metadata": {},
     "output_type": "execute_result"
    }
   ],
   "source": [
    "# Select the best parameters for SVM\n",
    "best.best_params[2]"
   ]
  },
  {
   "cell_type": "code",
   "execution_count": 51,
   "metadata": {
    "id": "AWVCwZaTHTR-"
   },
   "outputs": [],
   "source": [
    "# Create an SVM model with the best parameters and fit it to the training data\n",
    "model = SVC(gamma = 'auto', kernel = 'rbf')\n",
    "model.fit(X_train,y_train)\n",
    "y_predict = model.predict(X_test)"
   ]
  },
  {
   "cell_type": "markdown",
   "metadata": {
    "id": "Mhz3qyALHTR-"
   },
   "source": [
    "### Evaluation"
   ]
  },
  {
   "cell_type": "code",
   "execution_count": 52,
   "metadata": {
    "id": "ijANgnmoHTR-"
   },
   "outputs": [
    {
     "name": "stdout",
     "output_type": "stream",
     "text": [
      "[[20  7]\n",
      " [ 2 28]]\n"
     ]
    }
   ],
   "source": [
    "# Display the confusion matrix for SVM\n",
    "from sklearn.metrics import confusion_matrix\n",
    "print(confusion_matrix(y_test, y_predict))"
   ]
  },
  {
   "cell_type": "code",
   "execution_count": 53,
   "metadata": {},
   "outputs": [
    {
     "data": {
      "image/png": "[encoded data removed]",
      "text/plain": [
       "<Figure size 432x288 with 2 Axes>"
      ]
     },
     "metadata": {
      "needs_background": "light"
     },
     "output_type": "display_data"
    }
   ],
   "source": [
    "# Plot the confusion matrix for SVM\n",
    "import seaborn as sns\n",
    "sns.heatmap(confusion_matrix(y_test, y_predict), annot = True)\n",
    "plt.show()"
   ]
  },
  {
   "cell_type": "code",
   "execution_count": 54,
   "metadata": {},
   "outputs": [
    {
     "name": "stdout",
     "output_type": "stream",
     "text": [
      "\n",
      "\n",
      "Classification Report:\n",
      "              precision    recall  f1-score   support\n",
      "\n",
      "           0       0.91      0.74      0.82        27\n",
      "           1       0.80      0.93      0.86        30\n",
      "\n",
      "    accuracy                           0.84        57\n",
      "   macro avg       0.85      0.84      0.84        57\n",
      "weighted avg       0.85      0.84      0.84        57\n",
      "\n"
     ]
    }
   ],
   "source": [
    "# Display the classification report for SVM\n",
    "from sklearn.metrics import classification_report\n",
    "print('\\n')\n",
    "print('Classification Report:')\n",
    "print(classification_report(y_test, y_predict))"
   ]
  }
 ],
 "metadata": {
  "colab": {
   "provenance": []
  },
  "kernelspec": {
   "display_name": "Python 3 (ipykernel)",
   "language": "python",
   "name": "python3"
  },
  "language_info": {
   "codemirror_mode": {
    "name": "ipython",
    "version": 3
   },
   "file_extension": ".py",
   "mimetype": "text/x-python",
   "name": "python",
   "nbconvert_exporter": "python",
   "pygments_lexer": "ipython3",
   "version": "3.9.12"
  }
 },
 "nbformat": 4,
 "nbformat_minor": 1
}
